{
  "nbformat": 4,
  "nbformat_minor": 0,
  "metadata": {
    "colab": {
      "name": "lung CT.ipynb",
      "provenance": [],
      "mount_file_id": "1jhYBwT1AAkXWb_GLwMyoCCFc9fyt-2Ej",
      "authorship_tag": "ABX9TyMAIgmr5viE0LwbcQod+ebl",
      "include_colab_link": true
    },
    "kernelspec": {
      "name": "python3",
      "display_name": "Python 3"
    },
    "language_info": {
      "name": "python"
    },
    "accelerator": "GPU"
  },
  "cells": [
    {
      "cell_type": "markdown",
      "metadata": {
        "id": "view-in-github",
        "colab_type": "text"
      },
      "source": [
        "<a href=\"https://colab.research.google.com/github/sairamadithya/lung-CT-classification/blob/main/lung_CT.ipynb\" target=\"_parent\"><img src=\"https://colab.research.google.com/assets/colab-badge.svg\" alt=\"Open In Colab\"/></a>"
      ]
    },
    {
      "cell_type": "markdown",
      "source": [
        "this code is about the classification of the chest CT images into one of the four cancerous conditions namely adenocarcinoma, large cell carcinoma, squamous cell carcinoma and normal."
      ],
      "metadata": {
        "id": "TtNbkrL-PMlB"
      }
    },
    {
      "cell_type": "code",
      "execution_count": null,
      "metadata": {
        "id": "JyqpGx_FGGgR"
      },
      "outputs": [],
      "source": [
        "import numpy as np\n",
        "import numpy as np\n",
        "import pandas as pd\n",
        "import matplotlib.pyplot as plt\n",
        "import tensorflow as tf\n",
        "from keras import Sequential\n",
        "from tensorflow.keras.layers import *\n",
        "from tensorflow.keras.models import * \n",
        "from tensorflow.keras.preprocessing import image"
      ]
    },
    {
      "cell_type": "markdown",
      "source": [
        "the dataset consists of about 1000 different lung CT images."
      ],
      "metadata": {
        "id": "MW7VP0wGQC5V"
      }
    },
    {
      "cell_type": "code",
      "source": [
        "!unzip '/content/drive/MyDrive/breast CT.zip'"
      ],
      "metadata": {
        "id": "_ASv1MCQGwqk"
      },
      "execution_count": null,
      "outputs": []
    },
    {
      "cell_type": "markdown",
      "source": [
        "I have used imagedatagenerator to generate samples from the given image datasets by applying the specified transforms."
      ],
      "metadata": {
        "id": "Slk1m3-wQMWp"
      }
    },
    {
      "cell_type": "code",
      "source": [
        "train_datagen = image.ImageDataGenerator(\n",
        "    rotation_range=15,\n",
        "    shear_range=0.2,\n",
        "    zoom_range=0.2,\n",
        "    horizontal_flip=True,\n",
        "    fill_mode='nearest',\n",
        "    width_shift_range=0.1,\n",
        "    height_shift_range=0.1\n",
        ")\n",
        "test_datagen= image.ImageDataGenerator(    rotation_range=15,\n",
        "    shear_range=0.2,\n",
        "    zoom_range=0.2,\n",
        "    horizontal_flip=True,\n",
        "    fill_mode='nearest',\n",
        "    width_shift_range=0.1,\n",
        "    height_shift_range=0.1)"
      ],
      "metadata": {
        "id": "_SyNkU-QG29J"
      },
      "execution_count": null,
      "outputs": []
    },
    {
      "cell_type": "code",
      "source": [
        "train_generator = train_datagen.flow_from_directory(\n",
        "    '/content/Data/train',\n",
        "    target_size = (224,224),\n",
        "    batch_size = 8,\n",
        "    class_mode = 'categorical')\n",
        "validation_generator = test_datagen.flow_from_directory(\n",
        "    '/content/Data/test',\n",
        "    target_size = (224,224),\n",
        "    batch_size = 8,\n",
        "    shuffle=True,\n",
        "    class_mode = 'categorical')"
      ],
      "metadata": {
        "colab": {
          "base_uri": "https://localhost:8080/"
        },
        "id": "i4LbtpsZG4JM",
        "outputId": "699f31c2-9c7b-4fb8-b5ca-7099c5497e3c"
      },
      "execution_count": null,
      "outputs": [
        {
          "output_type": "stream",
          "name": "stdout",
          "text": [
            "Found 613 images belonging to 4 classes.\n",
            "Found 315 images belonging to 4 classes.\n"
          ]
        }
      ]
    },
    {
      "cell_type": "markdown",
      "source": [
        "I have developed a transfer learning based EfficientNetB3 model that has been trained on imagenet dataset. I have added some additional layers to the basic model."
      ],
      "metadata": {
        "id": "PFEWiBVlQY1q"
      }
    },
    {
      "cell_type": "code",
      "source": [
        "base_model = tf.keras.applications.EfficientNetB3(weights='imagenet', input_shape=(224,224,3), include_top=False)\n",
        "\n",
        "for layer in base_model.layers:\n",
        "    layer.trainable=True\n",
        "model = Sequential()\n",
        "model.add(base_model)\n",
        "model.add(GaussianNoise(0.25))\n",
        "model.add(GlobalAveragePooling2D())\n",
        "model.add(Dense(1024,activation='relu'))\n",
        "model.add(BatchNormalization())\n",
        "model.add(GaussianNoise(0.25))\n",
        "model.add(Dropout(0.25))\n",
        "model.add(Dense(4, activation='sigmoid'))\n",
        "model.summary()"
      ],
      "metadata": {
        "colab": {
          "base_uri": "https://localhost:8080/"
        },
        "id": "e1qnH-5tG7Pu",
        "outputId": "70f0287c-2326-4f2a-ef80-2c3fd281695b"
      },
      "execution_count": null,
      "outputs": [
        {
          "output_type": "stream",
          "name": "stdout",
          "text": [
            "Downloading data from https://storage.googleapis.com/keras-applications/efficientnetb3_notop.h5\n",
            "43941888/43941136 [==============================] - 1s 0us/step\n",
            "43950080/43941136 [==============================] - 1s 0us/step\n",
            "Model: \"sequential_4\"\n",
            "_________________________________________________________________\n",
            " Layer (type)                Output Shape              Param #   \n",
            "=================================================================\n",
            " efficientnetb3 (Functional)  (None, 7, 7, 1536)       10783535  \n",
            "                                                                 \n",
            " gaussian_noise_8 (GaussianN  (None, 7, 7, 1536)       0         \n",
            " oise)                                                           \n",
            "                                                                 \n",
            " global_average_pooling2d_4   (None, 1536)             0         \n",
            " (GlobalAveragePooling2D)                                        \n",
            "                                                                 \n",
            " dense_8 (Dense)             (None, 1024)              1573888   \n",
            "                                                                 \n",
            " batch_normalization_4 (Batc  (None, 1024)             4096      \n",
            " hNormalization)                                                 \n",
            "                                                                 \n",
            " gaussian_noise_9 (GaussianN  (None, 1024)             0         \n",
            " oise)                                                           \n",
            "                                                                 \n",
            " dropout_4 (Dropout)         (None, 1024)              0         \n",
            "                                                                 \n",
            " dense_9 (Dense)             (None, 4)                 4100      \n",
            "                                                                 \n",
            "=================================================================\n",
            "Total params: 12,365,619\n",
            "Trainable params: 12,276,268\n",
            "Non-trainable params: 89,351\n",
            "_________________________________________________________________\n"
          ]
        }
      ]
    },
    {
      "cell_type": "markdown",
      "source": [
        "The model has been compiled using cross entropy loss function, adam optimiser and the following metrics:\n",
        "\n",
        "accuracy\n",
        "\n",
        "AUC\n",
        "\n",
        "precision\n",
        "\n",
        "recall"
      ],
      "metadata": {
        "id": "EbptO2xjQl2L"
      }
    },
    {
      "cell_type": "code",
      "source": [
        "model.compile(loss='categorical_crossentropy',\n",
        "              optimizer=tf.keras.optimizers.Adam(learning_rate=0.00001),\n",
        "              metrics=['accuracy','AUC','Precision','Recall'])"
      ],
      "metadata": {
        "id": "FN9nnRGjG87i"
      },
      "execution_count": null,
      "outputs": []
    },
    {
      "cell_type": "code",
      "source": [
        "\n",
        "es=EarlyStopping(monitor='val_loss',patience=3)\n",
        "history = model.fit(\n",
        "    train_generator,\n",
        "    epochs=30,\n",
        "    validation_data=validation_generator,\n",
        "    steps_per_epoch= 75\n",
        "    )"
      ],
      "metadata": {
        "colab": {
          "base_uri": "https://localhost:8080/"
        },
        "id": "Q3jD0vsxG-qd",
        "outputId": "fc174b6a-dede-4aee-cfbf-aa36f8df5628"
      },
      "execution_count": null,
      "outputs": [
        {
          "output_type": "stream",
          "name": "stdout",
          "text": [
            "Epoch 1/30\n",
            "75/75 [==============================] - 63s 521ms/step - loss: 1.9185 - accuracy: 0.3065 - auc: 0.5595 - precision: 0.2855 - recall: 0.5695 - val_loss: 1.3125 - val_accuracy: 0.4254 - val_auc: 0.6355 - val_precision: 0.3128 - val_recall: 0.7429\n",
            "Epoch 2/30\n",
            "75/75 [==============================] - 33s 438ms/step - loss: 1.6521 - accuracy: 0.4104 - auc: 0.6453 - precision: 0.3316 - recall: 0.6399 - val_loss: 1.3135 - val_accuracy: 0.4095 - val_auc: 0.6290 - val_precision: 0.3073 - val_recall: 0.6857\n",
            "Epoch 3/30\n",
            "75/75 [==============================] - 33s 438ms/step - loss: 1.4954 - accuracy: 0.4606 - auc: 0.6849 - precision: 0.3510 - recall: 0.6767 - val_loss: 1.3353 - val_accuracy: 0.4063 - val_auc: 0.6373 - val_precision: 0.3190 - val_recall: 0.6571\n",
            "Epoch 4/30\n",
            "75/75 [==============================] - 33s 435ms/step - loss: 1.3421 - accuracy: 0.4858 - auc: 0.7224 - precision: 0.3621 - recall: 0.7236 - val_loss: 1.4564 - val_accuracy: 0.3492 - val_auc: 0.6245 - val_precision: 0.3077 - val_recall: 0.6476\n",
            "Epoch 5/30\n",
            "75/75 [==============================] - 33s 435ms/step - loss: 1.3050 - accuracy: 0.4925 - auc: 0.7331 - precision: 0.3672 - recall: 0.7203 - val_loss: 1.6552 - val_accuracy: 0.3397 - val_auc: 0.6022 - val_precision: 0.2980 - val_recall: 0.6159\n",
            "Epoch 6/30\n",
            "75/75 [==============================] - 33s 433ms/step - loss: 1.1036 - accuracy: 0.5595 - auc: 0.7790 - precision: 0.3979 - recall: 0.7471 - val_loss: 1.7581 - val_accuracy: 0.3365 - val_auc: 0.6050 - val_precision: 0.2957 - val_recall: 0.5905\n",
            "Epoch 7/30\n",
            "75/75 [==============================] - 33s 436ms/step - loss: 1.2044 - accuracy: 0.5293 - auc: 0.7694 - precision: 0.4035 - recall: 0.7739 - val_loss: 1.6065 - val_accuracy: 0.4032 - val_auc: 0.6491 - val_precision: 0.3113 - val_recall: 0.6286\n",
            "Epoch 8/30\n",
            "75/75 [==============================] - 33s 436ms/step - loss: 1.1778 - accuracy: 0.5561 - auc: 0.7726 - precision: 0.3981 - recall: 0.7688 - val_loss: 1.4618 - val_accuracy: 0.4730 - val_auc: 0.7043 - val_precision: 0.3519 - val_recall: 0.7206\n",
            "Epoch 9/30\n",
            "75/75 [==============================] - 33s 435ms/step - loss: 1.0686 - accuracy: 0.6064 - auc: 0.8038 - precision: 0.4188 - recall: 0.8040 - val_loss: 1.2007 - val_accuracy: 0.5556 - val_auc: 0.7701 - val_precision: 0.3849 - val_recall: 0.7905\n",
            "Epoch 10/30\n",
            "75/75 [==============================] - 33s 437ms/step - loss: 0.9589 - accuracy: 0.6231 - auc: 0.8213 - precision: 0.4250 - recall: 0.8208 - val_loss: 1.1141 - val_accuracy: 0.5714 - val_auc: 0.7870 - val_precision: 0.3910 - val_recall: 0.8032\n",
            "Epoch 11/30\n",
            "75/75 [==============================] - 33s 435ms/step - loss: 0.9666 - accuracy: 0.6415 - auc: 0.8257 - precision: 0.4329 - recall: 0.8157 - val_loss: 1.0284 - val_accuracy: 0.5746 - val_auc: 0.8120 - val_precision: 0.4120 - val_recall: 0.8254\n",
            "Epoch 12/30\n",
            "75/75 [==============================] - 34s 448ms/step - loss: 0.9416 - accuracy: 0.6549 - auc: 0.8368 - precision: 0.4407 - recall: 0.8459 - val_loss: 0.9950 - val_accuracy: 0.6127 - val_auc: 0.8219 - val_precision: 0.4155 - val_recall: 0.8667\n",
            "Epoch 13/30\n",
            "75/75 [==============================] - 33s 433ms/step - loss: 0.9125 - accuracy: 0.6549 - auc: 0.8449 - precision: 0.4424 - recall: 0.8425 - val_loss: 0.9806 - val_accuracy: 0.6032 - val_auc: 0.8239 - val_precision: 0.4072 - val_recall: 0.8635\n",
            "Epoch 14/30\n",
            "75/75 [==============================] - 33s 435ms/step - loss: 0.9213 - accuracy: 0.6466 - auc: 0.8399 - precision: 0.4366 - recall: 0.8358 - val_loss: 0.9467 - val_accuracy: 0.6349 - val_auc: 0.8396 - val_precision: 0.4367 - val_recall: 0.8762\n",
            "Epoch 15/30\n",
            "75/75 [==============================] - 33s 434ms/step - loss: 0.8319 - accuracy: 0.6683 - auc: 0.8607 - precision: 0.4617 - recall: 0.8693 - val_loss: 0.8920 - val_accuracy: 0.6222 - val_auc: 0.8459 - val_precision: 0.4256 - val_recall: 0.8984\n",
            "Epoch 16/30\n",
            "75/75 [==============================] - 33s 434ms/step - loss: 0.8828 - accuracy: 0.6650 - auc: 0.8506 - precision: 0.4473 - recall: 0.8526 - val_loss: 0.8763 - val_accuracy: 0.6540 - val_auc: 0.8496 - val_precision: 0.4177 - val_recall: 0.8698\n",
            "Epoch 17/30\n",
            "75/75 [==============================] - 37s 493ms/step - loss: 0.7697 - accuracy: 0.7119 - auc: 0.8695 - precision: 0.4594 - recall: 0.8727 - val_loss: 0.8580 - val_accuracy: 0.6698 - val_auc: 0.8592 - val_precision: 0.4271 - val_recall: 0.8921\n",
            "Epoch 18/30\n",
            "75/75 [==============================] - 33s 434ms/step - loss: 0.7355 - accuracy: 0.7253 - auc: 0.8787 - precision: 0.4762 - recall: 0.8727 - val_loss: 0.8737 - val_accuracy: 0.7016 - val_auc: 0.8591 - val_precision: 0.4383 - val_recall: 0.9016\n",
            "Epoch 19/30\n",
            "75/75 [==============================] - 33s 435ms/step - loss: 0.6825 - accuracy: 0.7487 - auc: 0.8943 - precision: 0.4891 - recall: 0.9045 - val_loss: 0.8529 - val_accuracy: 0.6889 - val_auc: 0.8638 - val_precision: 0.4188 - val_recall: 0.8921\n",
            "Epoch 20/30\n",
            "75/75 [==============================] - 33s 433ms/step - loss: 0.7466 - accuracy: 0.7018 - auc: 0.8863 - precision: 0.4752 - recall: 0.8978 - val_loss: 0.8570 - val_accuracy: 0.6889 - val_auc: 0.8623 - val_precision: 0.4372 - val_recall: 0.8952\n",
            "Epoch 21/30\n",
            "75/75 [==============================] - 33s 440ms/step - loss: 0.7382 - accuracy: 0.7253 - auc: 0.8849 - precision: 0.4743 - recall: 0.8961 - val_loss: 0.8184 - val_accuracy: 0.6921 - val_auc: 0.8683 - val_precision: 0.4332 - val_recall: 0.8857\n",
            "Epoch 22/30\n",
            "75/75 [==============================] - 33s 434ms/step - loss: 0.6790 - accuracy: 0.7487 - auc: 0.8985 - precision: 0.4764 - recall: 0.8961 - val_loss: 0.8799 - val_accuracy: 0.6413 - val_auc: 0.8570 - val_precision: 0.4506 - val_recall: 0.8984\n",
            "Epoch 23/30\n",
            "75/75 [==============================] - 33s 433ms/step - loss: 0.6558 - accuracy: 0.7571 - auc: 0.8961 - precision: 0.4829 - recall: 0.9012 - val_loss: 0.6891 - val_accuracy: 0.7556 - val_auc: 0.8943 - val_precision: 0.4581 - val_recall: 0.9206\n",
            "Epoch 24/30\n",
            "75/75 [==============================] - 33s 435ms/step - loss: 0.5633 - accuracy: 0.7956 - auc: 0.9144 - precision: 0.4929 - recall: 0.9263 - val_loss: 0.7232 - val_accuracy: 0.7206 - val_auc: 0.8883 - val_precision: 0.4512 - val_recall: 0.9397\n",
            "Epoch 25/30\n",
            "75/75 [==============================] - 33s 435ms/step - loss: 0.6122 - accuracy: 0.7755 - auc: 0.9083 - precision: 0.4892 - recall: 0.9112 - val_loss: 0.6848 - val_accuracy: 0.7746 - val_auc: 0.9026 - val_precision: 0.4740 - val_recall: 0.9270\n",
            "Epoch 26/30\n",
            "75/75 [==============================] - 33s 433ms/step - loss: 0.5824 - accuracy: 0.7722 - auc: 0.9155 - precision: 0.4907 - recall: 0.9229 - val_loss: 0.7449 - val_accuracy: 0.7143 - val_auc: 0.8904 - val_precision: 0.4681 - val_recall: 0.9079\n",
            "Epoch 27/30\n",
            "75/75 [==============================] - 33s 434ms/step - loss: 0.6077 - accuracy: 0.7789 - auc: 0.9122 - precision: 0.4937 - recall: 0.9146 - val_loss: 0.7059 - val_accuracy: 0.7587 - val_auc: 0.8936 - val_precision: 0.4590 - val_recall: 0.9238\n",
            "Epoch 28/30\n",
            "75/75 [==============================] - 34s 452ms/step - loss: 0.5707 - accuracy: 0.7923 - auc: 0.9178 - precision: 0.5023 - recall: 0.9062 - val_loss: 0.6246 - val_accuracy: 0.7587 - val_auc: 0.9155 - val_precision: 0.4942 - val_recall: 0.9397\n",
            "Epoch 29/30\n",
            "75/75 [==============================] - 35s 465ms/step - loss: 0.5538 - accuracy: 0.7940 - auc: 0.9263 - precision: 0.5064 - recall: 0.9263 - val_loss: 0.7286 - val_accuracy: 0.7460 - val_auc: 0.8994 - val_precision: 0.4744 - val_recall: 0.9111\n",
            "Epoch 30/30\n",
            "75/75 [==============================] - 33s 433ms/step - loss: 0.5308 - accuracy: 0.8124 - auc: 0.9300 - precision: 0.5197 - recall: 0.9296 - val_loss: 0.6945 - val_accuracy: 0.7810 - val_auc: 0.9083 - val_precision: 0.4753 - val_recall: 0.9175\n"
          ]
        }
      ]
    },
    {
      "cell_type": "markdown",
      "source": [
        "the model has produced the following results:\n",
        "\n",
        "training accuracy= 92.17%\n",
        "\n",
        "training loss= 0.2283\n",
        "\n",
        "training precision= 58%\n",
        "\n",
        "training recall= 98.21%\n",
        "\n",
        "training AUC= 0.9784"
      ],
      "metadata": {
        "id": "8kXeZ4_yqFHd"
      }
    },
    {
      "cell_type": "code",
      "source": [
        "model.evaluate(train_generator)"
      ],
      "metadata": {
        "colab": {
          "base_uri": "https://localhost:8080/"
        },
        "id": "C-ygUFFeIiC9",
        "outputId": "f29b08f0-ecd5-488f-b1b9-45ceed367eca"
      },
      "execution_count": null,
      "outputs": [
        {
          "output_type": "stream",
          "name": "stdout",
          "text": [
            "77/77 [==============================] - 12s 159ms/step - loss: 0.2283 - accuracy: 0.9217 - auc: 0.9784 - precision: 0.5800 - recall: 0.9821\n"
          ]
        },
        {
          "output_type": "execute_result",
          "data": {
            "text/plain": [
              "[0.2283298522233963,\n",
              " 0.9216966032981873,\n",
              " 0.978351891040802,\n",
              " 0.5799614787101746,\n",
              " 0.9820554852485657]"
            ]
          },
          "metadata": {},
          "execution_count": 37
        }
      ]
    },
    {
      "cell_type": "markdown",
      "source": [
        "the model has produced the following results:\n",
        "\n",
        "validation accuracy= 73.65%\n",
        "\n",
        "validation loss= 0.6912\n",
        "\n",
        "validation precision= 46.58%\n",
        "\n",
        "validation recall= 93.02%\n",
        "\n",
        "validation AUC= 0.9019"
      ],
      "metadata": {
        "id": "bXglNN2Y_e89"
      }
    },
    {
      "cell_type": "code",
      "source": [
        "model.evaluate(validation_generator)"
      ],
      "metadata": {
        "colab": {
          "base_uri": "https://localhost:8080/"
        },
        "id": "8d-sK2fUJDs_",
        "outputId": "9572c79e-0666-4445-b977-97e73ff6835a"
      },
      "execution_count": null,
      "outputs": [
        {
          "output_type": "stream",
          "name": "stdout",
          "text": [
            "40/40 [==============================] - 7s 164ms/step - loss: 0.6912 - accuracy: 0.7365 - auc: 0.9019 - precision: 0.4658 - recall: 0.9302\n"
          ]
        },
        {
          "output_type": "execute_result",
          "data": {
            "text/plain": [
              "[0.6911834478378296,\n",
              " 0.7365079522132874,\n",
              " 0.901906430721283,\n",
              " 0.46581876277923584,\n",
              " 0.9301587343215942]"
            ]
          },
          "metadata": {},
          "execution_count": 38
        }
      ]
    },
    {
      "cell_type": "code",
      "source": [
        "from keras.preprocessing import image\n",
        "img = image.load_img('/content/Data/valid/squamous_cell_carcinoma_left.lower.lobe_T2_N0_M0_Ib/000117 (6).png',target_size=(224,224))\n",
        "imag = image.img_to_array(img)\n",
        "imaga = np.expand_dims(imag,axis=0) \n",
        "ypred = model.predict(imaga)\n",
        "print(ypred)\n",
        "a=np.argmax(ypred,-1)\n",
        "if a==0:\n",
        "  op=\"Adenocarcinoma\"\n",
        "elif a==1:\n",
        "  op=\"large cell carcinoma\"\n",
        "elif a==2:\n",
        "  op=\"normal (void of cancer)\"\n",
        "else:\n",
        "  op=\"squamous cell carcinoma\"    \n",
        "plt.imshow(img)\n",
        "print(\"THE UPLOADED IMAGE IS SUSPECTED AS: \"+str(op))  \n"
      ],
      "metadata": {
        "colab": {
          "base_uri": "https://localhost:8080/",
          "height": 304
        },
        "id": "h4MxdPKjJFlW",
        "outputId": "63825bdd-8764-48f8-c8c7-c350ca111e8d"
      },
      "execution_count": null,
      "outputs": [
        {
          "output_type": "stream",
          "name": "stdout",
          "text": [
            "[[0.13362874 0.52833474 0.23151788 0.88195217]]\n",
            "THE UPLOADED IMAGE IS SUSPECTED AS: squamous cell carcinoma\n"
          ]
        },
        {
          "output_type": "display_data",
          "data": {
            "text/plain": [
              "<Figure size 432x288 with 1 Axes>"
            ],
            "image/png": "[encoded data removed]"
          },
          "metadata": {
            "needs_background": "light"
          }
        }
      ]
    },
    {
      "cell_type": "code",
      "source": [
        "tf.keras.models.save_model(model,'mymodel.hdf5')"
      ],
      "metadata": {
        "id": "QUlvhi8zVf7Z"
      },
      "execution_count": null,
      "outputs": []
    },
    {
      "cell_type": "code",
      "source": [
        "!pip install streamlit"
      ],
      "metadata": {
        "colab": {
          "base_uri": "https://localhost:8080/",
          "height": 1000
        },
        "id": "V22NkuKSJNWB",
        "outputId": "8ac9afd4-c63e-4b9f-cbc9-deabf953fd9e"
      },
      "execution_count": null,
      "outputs": [
        {
          "output_type": "stream",
          "name": "stdout",
          "text": [
            "Collecting streamlit\n",
            "  Downloading streamlit-1.7.0-py2.py3-none-any.whl (9.9 MB)\n",
            "\u001b[K     |████████████████████████████████| 9.9 MB 12.9 MB/s \n",
            "\u001b[?25hRequirement already satisfied: astor in /usr/local/lib/python3.7/dist-packages (from streamlit) (0.8.1)\n",
            "Requirement already satisfied: pandas>=0.21.0 in /usr/local/lib/python3.7/dist-packages (from streamlit) (1.3.5)\n",
            "Requirement already satisfied: tzlocal in /usr/local/lib/python3.7/dist-packages (from streamlit) (1.5.1)\n",
            "Collecting pympler>=0.9\n",
            "  Downloading Pympler-1.0.1-py3-none-any.whl (164 kB)\n",
            "\u001b[K     |████████████████████████████████| 164 kB 50.8 MB/s \n",
            "\u001b[?25hCollecting base58\n",
            "  Downloading base58-2.1.1-py3-none-any.whl (5.6 kB)\n",
            "Requirement already satisfied: pillow>=6.2.0 in /usr/local/lib/python3.7/dist-packages (from streamlit) (7.1.2)\n",
            "Requirement already satisfied: requests in /usr/local/lib/python3.7/dist-packages (from streamlit) (2.23.0)\n",
            "Collecting validators\n",
            "  Downloading validators-0.18.2-py3-none-any.whl (19 kB)\n",
            "Requirement already satisfied: pyarrow in /usr/local/lib/python3.7/dist-packages (from streamlit) (6.0.1)\n",
            "Requirement already satisfied: click>=7.0 in /usr/local/lib/python3.7/dist-packages (from streamlit) (7.1.2)\n",
            "Collecting blinker\n",
            "  Downloading blinker-1.4.tar.gz (111 kB)\n",
            "\u001b[K     |████████████████████████████████| 111 kB 52.5 MB/s \n",
            "\u001b[?25hRequirement already satisfied: attrs in /usr/local/lib/python3.7/dist-packages (from streamlit) (21.4.0)\n",
            "Requirement already satisfied: numpy in /usr/local/lib/python3.7/dist-packages (from streamlit) (1.21.5)\n",
            "Requirement already satisfied: python-dateutil in /usr/local/lib/python3.7/dist-packages (from streamlit) (2.8.2)\n",
            "Collecting toml\n",
            "  Downloading toml-0.10.2-py2.py3-none-any.whl (16 kB)\n",
            "Requirement already satisfied: tornado>=5.0 in /usr/local/lib/python3.7/dist-packages (from streamlit) (5.1.1)\n",
            "Collecting pydeck>=0.1.dev5\n",
            "  Downloading pydeck-0.7.1-py2.py3-none-any.whl (4.3 MB)\n",
            "\u001b[K     |████████████████████████████████| 4.3 MB 33.2 MB/s \n",
            "\u001b[?25hRequirement already satisfied: packaging in /usr/local/lib/python3.7/dist-packages (from streamlit) (21.3)\n",
            "Requirement already satisfied: importlib-metadata>=1.4 in /usr/local/lib/python3.7/dist-packages (from streamlit) (4.11.2)\n",
            "Collecting watchdog\n",
            "  Downloading watchdog-2.1.6-py3-none-manylinux2014_x86_64.whl (76 kB)\n",
            "\u001b[K     |████████████████████████████████| 76 kB 5.0 MB/s \n",
            "\u001b[?25hRequirement already satisfied: cachetools>=4.0 in /usr/local/lib/python3.7/dist-packages (from streamlit) (4.2.4)\n",
            "Collecting gitpython!=3.1.19\n",
            "  Downloading GitPython-3.1.27-py3-none-any.whl (181 kB)\n",
            "\u001b[K     |████████████████████████████████| 181 kB 52.2 MB/s \n",
            "\u001b[?25hRequirement already satisfied: protobuf!=3.11,>=3.6.0 in /usr/local/lib/python3.7/dist-packages (from streamlit) (3.17.3)\n",
            "Requirement already satisfied: typing-extensions in /usr/local/lib/python3.7/dist-packages (from streamlit) (3.10.0.2)\n",
            "Requirement already satisfied: semver in /usr/local/lib/python3.7/dist-packages (from streamlit) (2.13.0)\n",
            "Requirement already satisfied: altair>=3.2.0 in /usr/local/lib/python3.7/dist-packages (from streamlit) (4.2.0)\n",
            "Requirement already satisfied: jsonschema>=3.0 in /usr/local/lib/python3.7/dist-packages (from altair>=3.2.0->streamlit) (4.3.3)\n",
            "Requirement already satisfied: entrypoints in /usr/local/lib/python3.7/dist-packages (from altair>=3.2.0->streamlit) (0.4)\n",
            "Requirement already satisfied: toolz in /usr/local/lib/python3.7/dist-packages (from altair>=3.2.0->streamlit) (0.11.2)\n",
            "Requirement already satisfied: jinja2 in /usr/local/lib/python3.7/dist-packages (from altair>=3.2.0->streamlit) (2.11.3)\n",
            "Collecting gitdb<5,>=4.0.1\n",
            "  Downloading gitdb-4.0.9-py3-none-any.whl (63 kB)\n",
            "\u001b[K     |████████████████████████████████| 63 kB 1.6 MB/s \n",
            "\u001b[?25hCollecting smmap<6,>=3.0.1\n",
            "  Downloading smmap-5.0.0-py3-none-any.whl (24 kB)\n",
            "Requirement already satisfied: zipp>=0.5 in /usr/local/lib/python3.7/dist-packages (from importlib-metadata>=1.4->streamlit) (3.7.0)\n",
            "Requirement already satisfied: importlib-resources>=1.4.0 in /usr/local/lib/python3.7/dist-packages (from jsonschema>=3.0->altair>=3.2.0->streamlit) (5.4.0)\n",
            "Requirement already satisfied: pyrsistent!=0.17.0,!=0.17.1,!=0.17.2,>=0.14.0 in /usr/local/lib/python3.7/dist-packages (from jsonschema>=3.0->altair>=3.2.0->streamlit) (0.18.1)\n",
            "Requirement already satisfied: pytz>=2017.3 in /usr/local/lib/python3.7/dist-packages (from pandas>=0.21.0->streamlit) (2018.9)\n",
            "Requirement already satisfied: six>=1.9 in /usr/local/lib/python3.7/dist-packages (from protobuf!=3.11,>=3.6.0->streamlit) (1.15.0)\n",
            "Requirement already satisfied: ipywidgets>=7.0.0 in /usr/local/lib/python3.7/dist-packages (from pydeck>=0.1.dev5->streamlit) (7.6.5)\n",
            "Collecting ipykernel>=5.1.2\n",
            "  Downloading ipykernel-6.9.1-py3-none-any.whl (128 kB)\n",
            "\u001b[K     |████████████████████████████████| 128 kB 49.1 MB/s \n",
            "\u001b[?25hRequirement already satisfied: traitlets>=4.3.2 in /usr/local/lib/python3.7/dist-packages (from pydeck>=0.1.dev5->streamlit) (5.1.1)\n",
            "Collecting ipython>=7.23.1\n",
            "  Downloading ipython-7.32.0-py3-none-any.whl (793 kB)\n",
            "\u001b[K     |████████████████████████████████| 793 kB 40.0 MB/s \n",
            "\u001b[?25hRequirement already satisfied: jupyter-client<8.0 in /usr/local/lib/python3.7/dist-packages (from ipykernel>=5.1.2->pydeck>=0.1.dev5->streamlit) (5.3.5)\n",
            "Requirement already satisfied: matplotlib-inline<0.2.0,>=0.1.0 in /usr/local/lib/python3.7/dist-packages (from ipykernel>=5.1.2->pydeck>=0.1.dev5->streamlit) (0.1.3)\n",
            "Requirement already satisfied: nest-asyncio in /usr/local/lib/python3.7/dist-packages (from ipykernel>=5.1.2->pydeck>=0.1.dev5->streamlit) (1.5.4)\n",
            "Requirement already satisfied: debugpy<2.0,>=1.0.0 in /usr/local/lib/python3.7/dist-packages (from ipykernel>=5.1.2->pydeck>=0.1.dev5->streamlit) (1.0.0)\n",
            "Requirement already satisfied: pickleshare in /usr/local/lib/python3.7/dist-packages (from ipython>=7.23.1->ipykernel>=5.1.2->pydeck>=0.1.dev5->streamlit) (0.7.5)\n",
            "Collecting prompt-toolkit!=3.0.0,!=3.0.1,<3.1.0,>=2.0.0\n",
            "  Downloading prompt_toolkit-3.0.28-py3-none-any.whl (380 kB)\n",
            "\u001b[K     |████████████████████████████████| 380 kB 46.1 MB/s \n",
            "\u001b[?25hRequirement already satisfied: pygments in /usr/local/lib/python3.7/dist-packages (from ipython>=7.23.1->ipykernel>=5.1.2->pydeck>=0.1.dev5->streamlit) (2.6.1)\n",
            "Requirement already satisfied: backcall in /usr/local/lib/python3.7/dist-packages (from ipython>=7.23.1->ipykernel>=5.1.2->pydeck>=0.1.dev5->streamlit) (0.2.0)\n",
            "Requirement already satisfied: jedi>=0.16 in /usr/local/lib/python3.7/dist-packages (from ipython>=7.23.1->ipykernel>=5.1.2->pydeck>=0.1.dev5->streamlit) (0.18.1)\n",
            "Requirement already satisfied: pexpect>4.3 in /usr/local/lib/python3.7/dist-packages (from ipython>=7.23.1->ipykernel>=5.1.2->pydeck>=0.1.dev5->streamlit) (4.8.0)\n",
            "Requirement already satisfied: decorator in /usr/local/lib/python3.7/dist-packages (from ipython>=7.23.1->ipykernel>=5.1.2->pydeck>=0.1.dev5->streamlit) (4.4.2)\n",
            "Requirement already satisfied: setuptools>=18.5 in /usr/local/lib/python3.7/dist-packages (from ipython>=7.23.1->ipykernel>=5.1.2->pydeck>=0.1.dev5->streamlit) (57.4.0)\n",
            "Requirement already satisfied: widgetsnbextension~=3.5.0 in /usr/local/lib/python3.7/dist-packages (from ipywidgets>=7.0.0->pydeck>=0.1.dev5->streamlit) (3.5.2)\n",
            "Requirement already satisfied: jupyterlab-widgets>=1.0.0 in /usr/local/lib/python3.7/dist-packages (from ipywidgets>=7.0.0->pydeck>=0.1.dev5->streamlit) (1.0.2)\n",
            "Requirement already satisfied: nbformat>=4.2.0 in /usr/local/lib/python3.7/dist-packages (from ipywidgets>=7.0.0->pydeck>=0.1.dev5->streamlit) (5.1.3)\n",
            "Requirement already satisfied: ipython-genutils~=0.2.0 in /usr/local/lib/python3.7/dist-packages (from ipywidgets>=7.0.0->pydeck>=0.1.dev5->streamlit) (0.2.0)\n",
            "Requirement already satisfied: parso<0.9.0,>=0.8.0 in /usr/local/lib/python3.7/dist-packages (from jedi>=0.16->ipython>=7.23.1->ipykernel>=5.1.2->pydeck>=0.1.dev5->streamlit) (0.8.3)\n",
            "Requirement already satisfied: MarkupSafe>=0.23 in /usr/local/lib/python3.7/dist-packages (from jinja2->altair>=3.2.0->streamlit) (2.0.1)\n",
            "Requirement already satisfied: jupyter-core>=4.6.0 in /usr/local/lib/python3.7/dist-packages (from jupyter-client<8.0->ipykernel>=5.1.2->pydeck>=0.1.dev5->streamlit) (4.9.2)\n",
            "Requirement already satisfied: pyzmq>=13 in /usr/local/lib/python3.7/dist-packages (from jupyter-client<8.0->ipykernel>=5.1.2->pydeck>=0.1.dev5->streamlit) (22.3.0)\n",
            "Requirement already satisfied: ptyprocess>=0.5 in /usr/local/lib/python3.7/dist-packages (from pexpect>4.3->ipython>=7.23.1->ipykernel>=5.1.2->pydeck>=0.1.dev5->streamlit) (0.7.0)\n",
            "Requirement already satisfied: wcwidth in /usr/local/lib/python3.7/dist-packages (from prompt-toolkit!=3.0.0,!=3.0.1,<3.1.0,>=2.0.0->ipython>=7.23.1->ipykernel>=5.1.2->pydeck>=0.1.dev5->streamlit) (0.2.5)\n",
            "Requirement already satisfied: notebook>=4.4.1 in /usr/local/lib/python3.7/dist-packages (from widgetsnbextension~=3.5.0->ipywidgets>=7.0.0->pydeck>=0.1.dev5->streamlit) (5.3.1)\n",
            "Requirement already satisfied: nbconvert in /usr/local/lib/python3.7/dist-packages (from notebook>=4.4.1->widgetsnbextension~=3.5.0->ipywidgets>=7.0.0->pydeck>=0.1.dev5->streamlit) (5.6.1)\n",
            "Requirement already satisfied: Send2Trash in /usr/local/lib/python3.7/dist-packages (from notebook>=4.4.1->widgetsnbextension~=3.5.0->ipywidgets>=7.0.0->pydeck>=0.1.dev5->streamlit) (1.8.0)\n",
            "Requirement already satisfied: terminado>=0.8.1 in /usr/local/lib/python3.7/dist-packages (from notebook>=4.4.1->widgetsnbextension~=3.5.0->ipywidgets>=7.0.0->pydeck>=0.1.dev5->streamlit) (0.13.3)\n",
            "Requirement already satisfied: bleach in /usr/local/lib/python3.7/dist-packages (from nbconvert->notebook>=4.4.1->widgetsnbextension~=3.5.0->ipywidgets>=7.0.0->pydeck>=0.1.dev5->streamlit) (4.1.0)\n",
            "Requirement already satisfied: defusedxml in /usr/local/lib/python3.7/dist-packages (from nbconvert->notebook>=4.4.1->widgetsnbextension~=3.5.0->ipywidgets>=7.0.0->pydeck>=0.1.dev5->streamlit) (0.7.1)\n",
            "Requirement already satisfied: pandocfilters>=1.4.1 in /usr/local/lib/python3.7/dist-packages (from nbconvert->notebook>=4.4.1->widgetsnbextension~=3.5.0->ipywidgets>=7.0.0->pydeck>=0.1.dev5->streamlit) (1.5.0)\n",
            "Requirement already satisfied: testpath in /usr/local/lib/python3.7/dist-packages (from nbconvert->notebook>=4.4.1->widgetsnbextension~=3.5.0->ipywidgets>=7.0.0->pydeck>=0.1.dev5->streamlit) (0.6.0)\n",
            "Requirement already satisfied: mistune<2,>=0.8.1 in /usr/local/lib/python3.7/dist-packages (from nbconvert->notebook>=4.4.1->widgetsnbextension~=3.5.0->ipywidgets>=7.0.0->pydeck>=0.1.dev5->streamlit) (0.8.4)\n",
            "Requirement already satisfied: webencodings in /usr/local/lib/python3.7/dist-packages (from bleach->nbconvert->notebook>=4.4.1->widgetsnbextension~=3.5.0->ipywidgets>=7.0.0->pydeck>=0.1.dev5->streamlit) (0.5.1)\n",
            "Requirement already satisfied: pyparsing!=3.0.5,>=2.0.2 in /usr/local/lib/python3.7/dist-packages (from packaging->streamlit) (3.0.7)\n",
            "Requirement already satisfied: chardet<4,>=3.0.2 in /usr/local/lib/python3.7/dist-packages (from requests->streamlit) (3.0.4)\n",
            "Requirement already satisfied: urllib3!=1.25.0,!=1.25.1,<1.26,>=1.21.1 in /usr/local/lib/python3.7/dist-packages (from requests->streamlit) (1.24.3)\n",
            "Requirement already satisfied: idna<3,>=2.5 in /usr/local/lib/python3.7/dist-packages (from requests->streamlit) (2.10)\n",
            "Requirement already satisfied: certifi>=2017.4.17 in /usr/local/lib/python3.7/dist-packages (from requests->streamlit) (2021.10.8)\n",
            "Building wheels for collected packages: blinker\n",
            "  Building wheel for blinker (setup.py) ... \u001b[?25l\u001b[?25hdone\n",
            "  Created wheel for blinker: filename=blinker-1.4-py3-none-any.whl size=13478 sha256=57c932f1b3d372a8fe5d03a773e399cf42997d600caca5c812ece7afa51fc0b8\n",
            "  Stored in directory: /root/.cache/pip/wheels/22/f5/18/df711b66eb25b21325c132757d4314db9ac5e8dabeaf196eab\n",
            "Successfully built blinker\n",
            "Installing collected packages: prompt-toolkit, ipython, ipykernel, smmap, gitdb, watchdog, validators, toml, pympler, pydeck, gitpython, blinker, base58, streamlit\n",
            "  Attempting uninstall: prompt-toolkit\n",
            "    Found existing installation: prompt-toolkit 1.0.18\n",
            "    Uninstalling prompt-toolkit-1.0.18:\n",
            "      Successfully uninstalled prompt-toolkit-1.0.18\n",
            "  Attempting uninstall: ipython\n",
            "    Found existing installation: ipython 5.5.0\n",
            "    Uninstalling ipython-5.5.0:\n",
            "      Successfully uninstalled ipython-5.5.0\n",
            "  Attempting uninstall: ipykernel\n",
            "    Found existing installation: ipykernel 4.10.1\n",
            "    Uninstalling ipykernel-4.10.1:\n",
            "      Successfully uninstalled ipykernel-4.10.1\n",
            "\u001b[31mERROR: pip's dependency resolver does not currently take into account all the packages that are installed. This behaviour is the source of the following dependency conflicts.\n",
            "jupyter-console 5.2.0 requires prompt-toolkit<2.0.0,>=1.0.0, but you have prompt-toolkit 3.0.28 which is incompatible.\n",
            "google-colab 1.0.0 requires ipykernel~=4.10, but you have ipykernel 6.9.1 which is incompatible.\n",
            "google-colab 1.0.0 requires ipython~=5.5.0, but you have ipython 7.32.0 which is incompatible.\u001b[0m\n",
            "Successfully installed base58-2.1.1 blinker-1.4 gitdb-4.0.9 gitpython-3.1.27 ipykernel-6.9.1 ipython-7.32.0 prompt-toolkit-3.0.28 pydeck-0.7.1 pympler-1.0.1 smmap-5.0.0 streamlit-1.7.0 toml-0.10.2 validators-0.18.2 watchdog-2.1.6\n"
          ]
        },
        {
          "output_type": "display_data",
          "data": {
            "application/vnd.colab-display-data+json": {
              "pip_warning": {
                "packages": [
                  "IPython",
                  "ipykernel",
                  "prompt_toolkit"
                ]
              }
            }
          },
          "metadata": {}
        }
      ]
    },
    {
      "cell_type": "markdown",
      "source": [
        "I have developed a website using streamlit that accepts the lung CT image from the user in the format of PNG, JPG or JPEG. Once uploaded, the model will classify the input image into one of the four cancerous conditions (adenocarcinoma, large cell carcinoma, squamous cell carcinoma."
      ],
      "metadata": {
        "id": "8b8SfXi4QzOC"
      }
    },
    {
      "cell_type": "code",
      "source": [
        "%%writefile app.py\n",
        "import streamlit as st\n",
        "import tensorflow as tf\n",
        "import streamlit as st\n",
        "from tensorflow.keras.preprocessing import image\n",
        "from PIL import Image, ImageOps\n",
        "import pandas as pd\n",
        "import cv2\n",
        "import numpy as np\n",
        "\n",
        "\n",
        "html_temp = \"\"\" \n",
        "  <div style=\"background-color:pink ;padding:10px\">\n",
        "  <h2 style=\"color:white;text-align:center;\"> LUNG CT IMAGE CLASSIFICATION ⚕️⚕️⚕️</h2>\n",
        "  </div>\n",
        "  \"\"\" \n",
        "st.markdown(html_temp, unsafe_allow_html=True) \n",
        "html_temp = \"\"\" \n",
        "  <div style=\"background-color:teal ;padding:10px\">\n",
        "  <h2 style=\"color:white;text-align:center;\"> Done by Sairam Adithya</h2>\n",
        "  </div>\n",
        "  \"\"\" \n",
        "st.markdown(html_temp, unsafe_allow_html=True) \n",
        "st.header('Types of cancer covered in the dataset are:')\n",
        "st.subheader('1. Adenocarcinoma')\n",
        "st.write('Cancer is a medical condition which is due to abnormal, uncontrollable, uncoordinated division of cells.')\n",
        "st.write('Adenocarcinoma of the lung: Lung adenocarcinoma is the most common form of lung cancer accounting for 30 percent of all cases overall and about 40 percent of all non-small cell lung cancer occurrences. Adenocarcinomas are found in several common cancers, including breast, prostate and colorectal. Adenocarcinomas of the lung are found in the outer region of the lung in glands that secrete mucus and help us breathe. Symptoms include coughing, hoarseness, weight loss and weakness.')\n",
        "st.subheader('2. Large cell carcinoma')\n",
        "st.write('Large-cell undifferentiated carcinoma: Large-cell undifferentiated carcinoma lung cancer grows and spreads quickly and can be found anywhere in the lung. This type of lung cancer usually accounts for 10 to 15 percent of all cases of NSCLC. Large-cell undifferentiated carcinoma tends to grow and spread quickly.')\n",
        "st.subheader('3. Squamous cell carcinoma')\n",
        "st.write('Squamous cell: This type of lung cancer is found centrally in the lung, where the larger bronchi join the trachea to the lung, or in one of the main airway branches. Squamous cell lung cancer is responsible for about 30 percent of all non-small cell lung cancers, and is generally linked to smoking.')\n",
        "st.subheader('4. Normal')\n",
        "st.write('This is normal lung CT image.')\n",
        "@st.cache(allow_output_mutation=True)\n",
        "def load_model():\n",
        "   model=tf.keras.models.load_model('/content/mymodel.hdf5')\n",
        "   return model\n",
        "with st.spinner('Model is being loaded..'):\n",
        "    model=load_model()\n",
        "file = st.file_uploader(\"Please upload any image from the local machine in case of computer or upload camera image in case of mobile.\", type=[\"jpg\", \"png\",\"jpeg\"])\n",
        "st.set_option('deprecation.showfileUploaderEncoding', False)\n",
        "def import_and_predict(image_data, model):   \n",
        "        size = (224,224)    \n",
        "        image = ImageOps.fit(image_data, size, Image.ANTIALIAS)\n",
        "        image = np.asarray(image)\n",
        "        img = cv2.cvtColor(image, cv2.COLOR_BGR2RGB)\n",
        "        #img_resize = (cv2.resize(img, dsize=(75, 75),    interpolation=cv2.INTER_CUBIC))/255.\n",
        "        \n",
        "        img_reshape = img[np.newaxis,...]\n",
        "    \n",
        "        prediction = model.predict(img_reshape)\n",
        "        return prediction\n",
        "if file is None:\n",
        "     st.text(\"Please upload an image file within the allotted file size\")\n",
        "else:\n",
        "     img = Image.open(file)\n",
        "     st.image(img, use_column_width=False)\n",
        "     size = (224,224)    \n",
        "     image = ImageOps.fit(img, size, Image.ANTIALIAS)\n",
        "     imag = np.asarray(image)\n",
        "     imaga = np.expand_dims(imag,axis=0) \n",
        "     predictions = model.predict(imaga)\n",
        "     #predictions = import_and_predict(image, model)\n",
        "     a=np.argmax(predictions,-1)\n",
        "     if a==0:\n",
        "       st.error('The subject under observation is suspected to have adenocarcinoma. Please ensure that you consult with a professional before pursuing any kinds of treatment.')\n",
        "       st.warning('the model is only 75% accurate. this is the beta version of the model. Futher enhancements has to made to get the best results.')\n",
        "     elif a==1:\n",
        "       st.error('The subject under observation is suspected to have large cell carcinoma. Please ensure that you consult with a professional or confirm with the other modalities present in the tool.') \n",
        "       st.warning('the model is only 75% accurate. this is the beta version of the model. Futher enhancements has to made to get the best results.')\n",
        "     elif a==2:\n",
        "       st.success('The subject under consideration is void of any lung/breast cancer.')\n",
        "       st.warning('the model is only 75% accurate. this is the beta version of the model. Futher enhancements has to made to get the best results.')      \n",
        "     else:\n",
        "       st.error('The subject under observation is suspected to have squamous cell carcinoma. Please ensure that you consult with a professional or confirm with the other modalities present in the tool.')\n",
        "       st.warning('the model is only 75% accurate. this is the beta version of the model. Futher enhancements has to made to get the best results.')        "
      ],
      "metadata": {
        "colab": {
          "base_uri": "https://localhost:8080/"
        },
        "id": "krs3xFkNJPiA",
        "outputId": "0e80094b-8ea7-474d-84a9-2ffefd84311f"
      },
      "execution_count": null,
      "outputs": [
        {
          "output_type": "stream",
          "name": "stdout",
          "text": [
            "Overwriting app.py\n"
          ]
        }
      ]
    },
    {
      "cell_type": "code",
      "source": [
        "!streamlit run app.py & npx localtunnel --port 8501"
      ],
      "metadata": {
        "colab": {
          "base_uri": "https://localhost:8080/"
        },
        "id": "4KEIChI4JSwm",
        "outputId": "a77dd10c-2440-41d3-9556-8737cc907d0d"
      },
      "execution_count": null,
      "outputs": [
        {
          "output_type": "stream",
          "name": "stdout",
          "text": [
            "/bin/bash: streamlit: command not found\n",
            "\u001b[K\u001b[?25h^C\n"
          ]
        }
      ]
    }
  ]
}